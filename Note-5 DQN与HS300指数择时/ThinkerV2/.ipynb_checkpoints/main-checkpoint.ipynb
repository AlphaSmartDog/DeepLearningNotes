{
 "cells": [
  {
   "cell_type": "code",
   "execution_count": 1,
   "metadata": {
    "collapsed": true
   },
   "outputs": [],
   "source": [
    "import pandas as pd\n",
    "import seaborn as sns\n",
    "%matplotlib inline\n",
    "from env2 import env\n",
    "from DQNCore import DQNCore"
   ]
  },
  {
   "cell_type": "code",
   "execution_count": 2,
   "metadata": {
    "collapsed": true,
    "scrolled": false
   },
   "outputs": [],
   "source": [
    "init_state = env.get_initial_state()\n",
    "action_space = env.get_action_space()\n",
    "agent = DQNCore(init_state, len(action_space))"
   ]
  },
  {
   "cell_type": "code",
   "execution_count": 3,
   "metadata": {},
   "outputs": [
    {
     "name": "stdout",
     "output_type": "stream",
     "text": [
      "0\n",
      "1\n",
      "2\n",
      "3\n",
      "4\n",
      "5\n",
      "6\n",
      "7\n",
      "8\n",
      "9\n"
     ]
    }
   ],
   "source": [
    "MAX_EPISODE = 10\n",
    "\n",
    "global_counter = 0\n",
    "varepsilon = 0\n",
    "\n",
    "for episode in range(MAX_EPISODE):\n",
    "    print (episode)\n",
    "    step_counter = 0\n",
    "    env.reset()\n",
    "    state = env.get_initial_state()\n",
    "    agent.init()\n",
    "    while True:\n",
    "        global_counter += 1\n",
    "        step_counter += 1\n",
    "        if global_counter % 1000 == 0:\n",
    "            varepsilon += 5e-5\n",
    "        \n",
    "        action = agent.varepsilon_greedy_policy(state, varepsilon)\n",
    "        reward, next_state, done = env.step(action)\n",
    "        agent.update_cache(state, action, reward, next_state, done)\n",
    "        state = next_state\n",
    "        \n",
    "        if global_counter > 1000 and step_counter > 32:\n",
    "            agent.step_learning()\n",
    "        if global_counter % 1000 ==0:\n",
    "            agent.update_nextQ_network()     \n",
    "        \n",
    "        if done:\n",
    "            break"
   ]
  },
  {
   "cell_type": "code",
   "execution_count": 4,
   "metadata": {
    "collapsed": true
   },
   "outputs": [],
   "source": [
    "reward_list= []\n",
    "value_list = []\n",
    "env.reset()\n",
    "state = env.get_initial_state()\n",
    "for i in range(600):\n",
    "    action = agent.greedy_policy(state)\n",
    "    reward, next_state, done = env.step(action)\n",
    "    state = next_state\n",
    "    reward_list.append(reward)\n",
    "    value_list.append(env.total_value)"
   ]
  },
  {
   "cell_type": "code",
   "execution_count": 5,
   "metadata": {
    "scrolled": false
   },
   "outputs": [
    {
     "data": {
      "text/plain": [
       "<matplotlib.axes._subplots.AxesSubplot at 0x1bad92ccb38>"
      ]
     },
     "execution_count": 5,
     "metadata": {},
     "output_type": "execute_result"
    },
    {
     "data": {
      "image/png": "[encoded data removed]",
      "text/plain": [
       "<matplotlib.figure.Figure at 0x1bad92cc400>"
      ]
     },
     "metadata": {},
     "output_type": "display_data"
    }
   ],
   "source": [
    "pd.Series(value_list).plot(figsize=(16,6))"
   ]
  },
  {
   "cell_type": "code",
   "execution_count": null,
   "metadata": {
    "collapsed": true
   },
   "outputs": [],
   "source": []
  }
 ],
 "metadata": {
  "kernelspec": {
   "display_name": "Python 3",
   "language": "python",
   "name": "python3"
  },
  "language_info": {
   "codemirror_mode": {
    "name": "ipython",
    "version": 3
   },
   "file_extension": ".py",
   "mimetype": "text/x-python",
   "name": "python",
   "nbconvert_exporter": "python",
   "pygments_lexer": "ipython3",
   "version": "3.6.1"
  }
 },
 "nbformat": 4,
 "nbformat_minor": 2
}
