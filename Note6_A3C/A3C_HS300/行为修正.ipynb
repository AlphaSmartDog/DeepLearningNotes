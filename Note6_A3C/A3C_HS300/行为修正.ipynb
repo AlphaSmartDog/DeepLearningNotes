{
 "cells": [
  {
   "cell_type": "code",
   "execution_count": 1,
   "metadata": {
    "collapsed": true
   },
   "outputs": [],
   "source": [
    "import numpy as np\n",
    "import pandas as pd\n",
    "import seaborn as sns\n",
    "%matplotlib inline\n",
    "\n",
    "_EPSILON = 1e-6  # avoid nan"
   ]
  },
  {
   "cell_type": "code",
   "execution_count": 2,
   "metadata": {
    "collapsed": true
   },
   "outputs": [],
   "source": [
    "def sigmoid(x):\n",
    "    return 1 / (np.exp(-x) + 1)\n",
    "\n",
    "def softmax(x):\n",
    "    exp_array = np.exp(x)\n",
    "    return exp_array/np.sum(exp_array)\n",
    "\n",
    "# https://stackoverflow.com/questions/37292872/how-can-i-one-hot-encode-in-python\n",
    "def one_hot_encode(x, n_classes):\n",
    "    \"\"\"\n",
    "    One hot encode a list of sample labels. Return a one-hot encoded vector for each label.\n",
    "    : x: List of sample Labels\n",
    "    : return: Numpy array of one-hot encoded labels\n",
    "     \"\"\"\n",
    "    return np.eye(n_classes)[x]"
   ]
  },
  {
   "cell_type": "code",
   "execution_count": 3,
   "metadata": {
    "collapsed": true
   },
   "outputs": [],
   "source": [
    "actor_outputs = np.random.randint(-100, 100, size=(32, 3))\n",
    "critic_outputs = np.random.randint(-1000, 1000, size=(32))"
   ]
  },
  {
   "cell_type": "code",
   "execution_count": 4,
   "metadata": {
    "collapsed": true
   },
   "outputs": [],
   "source": [
    "policy = map(softmax, actor_outputs)\n",
    "policy = np.stack(list(policy), axis=0)\n",
    "\n",
    "stochastic_actions = np.random.randint(3, size=(32))\n",
    "stochastic_onehot = one_hot_encode(stochastic_actions, 3)\n",
    "stochastic_policy_action = np.sum(stochastic_onehot * policy, axis=1)\n",
    "\n",
    "greedy_actions = np.argmax(policy, axis=1)\n",
    "greedy_onehot = one_hot_encode(greedy_actions, 3)\n",
    "greedy_policy_action = np.sum(greedy_onehot * policy, axis=1)"
   ]
  },
  {
   "cell_type": "code",
   "execution_count": 5,
   "metadata": {},
   "outputs": [
    {
     "data": {
      "text/html": [
       "<div>\n",
       "<style>\n",
       "    .dataframe thead tr:only-child th {\n",
       "        text-align: right;\n",
       "    }\n",
       "\n",
       "    .dataframe thead th {\n",
       "        text-align: left;\n",
       "    }\n",
       "\n",
       "    .dataframe tbody tr th {\n",
       "        vertical-align: top;\n",
       "    }\n",
       "</style>\n",
       "<table border=\"1\" class=\"dataframe\">\n",
       "  <thead>\n",
       "    <tr style=\"text-align: right;\">\n",
       "      <th></th>\n",
       "      <th>greedy_actions</th>\n",
       "      <th>stochastic_actions</th>\n",
       "    </tr>\n",
       "  </thead>\n",
       "  <tbody>\n",
       "    <tr>\n",
       "      <th>count</th>\n",
       "      <td>3.200000e+01</td>\n",
       "      <td>3.200000e+01</td>\n",
       "    </tr>\n",
       "    <tr>\n",
       "      <th>mean</th>\n",
       "      <td>4.161325e-03</td>\n",
       "      <td>7.099351e+00</td>\n",
       "    </tr>\n",
       "    <tr>\n",
       "      <th>std</th>\n",
       "      <td>2.241075e-02</td>\n",
       "      <td>6.902754e+00</td>\n",
       "    </tr>\n",
       "    <tr>\n",
       "      <th>min</th>\n",
       "      <td>-9.999995e-07</td>\n",
       "      <td>-9.999995e-07</td>\n",
       "    </tr>\n",
       "    <tr>\n",
       "      <th>25%</th>\n",
       "      <td>-9.999995e-07</td>\n",
       "      <td>-9.955984e-07</td>\n",
       "    </tr>\n",
       "    <tr>\n",
       "      <th>50%</th>\n",
       "      <td>-9.999991e-07</td>\n",
       "      <td>9.908412e+00</td>\n",
       "    </tr>\n",
       "    <tr>\n",
       "      <th>75%</th>\n",
       "      <td>5.670968e-07</td>\n",
       "      <td>1.381551e+01</td>\n",
       "    </tr>\n",
       "    <tr>\n",
       "      <th>max</th>\n",
       "      <td>1.269269e-01</td>\n",
       "      <td>1.381551e+01</td>\n",
       "    </tr>\n",
       "  </tbody>\n",
       "</table>\n",
       "</div>"
      ],
      "text/plain": [
       "       greedy_actions  stochastic_actions\n",
       "count    3.200000e+01        3.200000e+01\n",
       "mean     4.161325e-03        7.099351e+00\n",
       "std      2.241075e-02        6.902754e+00\n",
       "min     -9.999995e-07       -9.999995e-07\n",
       "25%     -9.999995e-07       -9.955984e-07\n",
       "50%     -9.999991e-07        9.908412e+00\n",
       "75%      5.670968e-07        1.381551e+01\n",
       "max      1.269269e-01        1.381551e+01"
      ]
     },
     "execution_count": 5,
     "metadata": {},
     "output_type": "execute_result"
    }
   ],
   "source": [
    "tmp = pd.DataFrame()\n",
    "tmp['greedy_actions'] = -np.log(greedy_policy_action + _EPSILON)\n",
    "tmp['stochastic_actions'] = -np.log(stochastic_policy_action + _EPSILON)\n",
    "\n",
    "tmp.describe()"
   ]
  },
  {
   "cell_type": "code",
   "execution_count": 8,
   "metadata": {},
   "outputs": [
    {
     "data": {
      "text/plain": [
       "[0, 1, 2]"
      ]
     },
     "execution_count": 8,
     "metadata": {},
     "output_type": "execute_result"
    }
   ],
   "source": [
    "action_size = 3\n",
    "action_space = list(range(action_size))\n",
    "action_space"
   ]
  },
  {
   "cell_type": "code",
   "execution_count": 9,
   "metadata": {
    "collapsed": true
   },
   "outputs": [
    {
     "data": {
      "text/plain": [
       "array([[  9.99999959e-01,   2.61027896e-23,   4.13993755e-08],\n",
       "       [  3.57226994e-67,   1.00000000e+00,   6.91440011e-13],\n",
       "       [  3.77513454e-11,   1.00000000e+00,   5.52108228e-42],\n",
       "       [  7.58256042e-10,   2.82077009e-53,   9.99999999e-01],\n",
       "       [  2.82077009e-53,   1.00000000e+00,   1.95039330e-65],\n",
       "       [  9.99999994e-01,   5.60279641e-09,   2.74878499e-43],\n",
       "       [  3.81749719e-54,   1.00000000e+00,   8.07450679e-73],\n",
       "       [  1.71390843e-15,   3.22134029e-27,   1.00000000e+00],\n",
       "       [  1.00000000e+00,   2.08428284e-52,   1.26641655e-14],\n",
       "       [  1.00000000e+00,   1.21609930e-37,   8.53304763e-17],\n",
       "       [  8.75651076e-27,   3.22134029e-27,   1.00000000e+00],\n",
       "       [  8.75651076e-27,   2.19487851e-72,   1.00000000e+00],\n",
       "       [  9.11051194e-04,   4.18257998e-51,   9.99088949e-01],\n",
       "       [  4.64736648e-15,   9.97527377e-01,   2.47262316e-03],\n",
       "       [  9.97527377e-01,   2.47262316e-03,   2.43656111e-36],\n",
       "       [  1.42516408e-21,   1.00000000e+00,   4.71116580e-58],\n",
       "       [  1.00000000e+00,   2.17052201e-29,   8.62880116e-60],\n",
       "       [  6.14417460e-06,   9.99993856e-01,   1.51761749e-84],\n",
       "       [  1.81545808e-09,   8.80797076e-01,   1.19202922e-01],\n",
       "       [  3.53262857e-24,   1.00000000e+00,   2.61027907e-23],\n",
       "       [  1.64581143e-38,   1.00000000e+00,   9.85415469e-34],\n",
       "       [  8.98582594e-37,   1.00000000e+00,   2.70869527e-76],\n",
       "       [  1.08063928e-30,   4.59093847e-48,   1.00000000e+00],\n",
       "       [  7.47197234e-43,   1.44115655e-64,   1.00000000e+00],\n",
       "       [  1.13759825e-50,   9.99664650e-01,   3.35350130e-04],\n",
       "       [  8.62880115e-60,   9.99999999e-01,   7.58256042e-10],\n",
       "       [  6.30511676e-16,   7.78113224e-20,   1.00000000e+00],\n",
       "       [  1.54006256e-51,   1.67014218e-05,   9.99983299e-01],\n",
       "       [  7.58256042e-10,   3.17435855e-60,   9.99999999e-01],\n",
       "       [  1.00000000e+00,   3.87399763e-21,   1.15482242e-17],\n",
       "       [  4.53978687e-05,   5.89982269e-29,   9.99954602e-01],\n",
       "       [  9.99999999e-01,   7.58256042e-10,   3.77513454e-11]])"
      ]
     },
     "execution_count": 9,
     "metadata": {},
     "output_type": "execute_result"
    }
   ],
   "source": [
    "policy"
   ]
  },
  {
   "cell_type": "code",
   "execution_count": 13,
   "metadata": {
    "collapsed": true
   },
   "outputs": [
    {
     "ename": "IndexError",
     "evalue": "invalid index to scalar variable.",
     "output_type": "error",
     "traceback": [
      "\u001b[1;31m---------------------------------------------------------------------------\u001b[0m",
      "\u001b[1;31mIndexError\u001b[0m                                Traceback (most recent call last)",
      "\u001b[1;32m<ipython-input-13-89a4445e1b32>\u001b[0m in \u001b[0;36m<module>\u001b[1;34m()\u001b[0m\n\u001b[1;32m----> 1\u001b[1;33m \u001b[0mnp\u001b[0m\u001b[1;33m.\u001b[0m\u001b[0mrandom\u001b[0m\u001b[1;33m.\u001b[0m\u001b[0mchoice\u001b[0m\u001b[1;33m(\u001b[0m\u001b[0maction_space\u001b[0m\u001b[1;33m,\u001b[0m \u001b[1;36m1\u001b[0m\u001b[1;33m,\u001b[0m \u001b[0mp\u001b[0m\u001b[1;33m=\u001b[0m\u001b[0mpolicy\u001b[0m\u001b[1;33m[\u001b[0m\u001b[1;36m0\u001b[0m\u001b[1;33m]\u001b[0m\u001b[1;33m)\u001b[0m\u001b[1;33m[\u001b[0m\u001b[1;36m0\u001b[0m\u001b[1;33m]\u001b[0m\u001b[1;33m[\u001b[0m\u001b[1;36m0\u001b[0m\u001b[1;33m]\u001b[0m\u001b[1;33m\u001b[0m\u001b[0m\n\u001b[0m",
      "\u001b[1;31mIndexError\u001b[0m: invalid index to scalar variable."
     ]
    }
   ],
   "source": [
    "np.random.choice(action_space, 1, p=policy[0])[0]"
   ]
  },
  {
   "cell_type": "code",
   "execution_count": 21,
   "metadata": {},
   "outputs": [
    {
     "data": {
      "text/plain": [
       "1"
      ]
     },
     "execution_count": 21,
     "metadata": {},
     "output_type": "execute_result"
    }
   ],
   "source": [
    "np.random.randint(3)"
   ]
  }
 ],
 "metadata": {
  "kernelspec": {
   "display_name": "Python 3",
   "language": "python",
   "name": "python3"
  },
  "language_info": {
   "codemirror_mode": {
    "name": "ipython",
    "version": 3
   },
   "file_extension": ".py",
   "mimetype": "text/x-python",
   "name": "python",
   "nbconvert_exporter": "python",
   "pygments_lexer": "ipython3",
   "version": "3.6.1"
  }
 },
 "nbformat": 4,
 "nbformat_minor": 2
}
