{
 "cells": [
  {
   "cell_type": "code",
   "execution_count": 1,
   "metadata": {},
   "outputs": [
    {
     "name": "stdout",
     "output_type": "stream",
     "text": [
      "/home/huangyuqi/Documents/DeepLearningNotes/Note_6/RL_SH50\n"
     ]
    }
   ],
   "source": [
    "import os\n",
    "os.chdir(os.path.dirname('/home/huangyuqi/Documents/DeepLearningNotes/Note_6/RL_SH50/'))\n",
    "print(os.getcwd())"
   ]
  },
  {
   "cell_type": "code",
   "execution_count": 3,
   "metadata": {},
   "outputs": [],
   "source": [
    "import rqdatac\n",
    "from rqdatac import *\n",
    "rqdatac.init('xinjin', '123456', ('172.19.182.162', 16003))"
   ]
  },
  {
   "cell_type": "code",
   "execution_count": 4,
   "metadata": {},
   "outputs": [],
   "source": [
    "import time\n",
    "\n",
    "import pandas as pd\n",
    "import numpy as np"
   ]
  },
  {
   "cell_type": "code",
   "execution_count": 5,
   "metadata": {},
   "outputs": [],
   "source": [
    "from env.env_main import Account"
   ]
  },
  {
   "cell_type": "code",
   "execution_count": 6,
   "metadata": {},
   "outputs": [],
   "source": [
    "stock_list = ['000300.XSHG', '000016.XSHG', '000905.XSHG']\n",
    "start_date = '2012-01-01'\n",
    "start_date_features = '2011-12-01'\n",
    "end_date = '2017-06-30'\n",
    "fields_daily = ['open', 'close']\n",
    "fields_hf = ['open', 'high', 'low', 'close', 'total_turnover']\n",
    "\n",
    "daily = get_price(stock_list, start_date, end_date, fields=fields_daily, adjust_type='post', frequency='1d')\n",
    "high_freq = get_price(stock_list, start_date_features, end_date, fields=fields_hf, adjust_type='post', frequency='15m')"
   ]
  },
  {
   "cell_type": "code",
   "execution_count": 7,
   "metadata": {},
   "outputs": [
    {
     "name": "stdout",
     "output_type": "stream",
     "text": [
      "1333\n(64, 3, 31)\n"
     ]
    }
   ],
   "source": [
    "train_env = Account(daily_prices=daily, high_freq_data=high_freq)\n",
    "print(len(train_env.features))\n",
    "print(train_env.features[-1].shape)"
   ]
  },
  {
   "cell_type": "code",
   "execution_count": 8,
   "metadata": {},
   "outputs": [
    {
     "data": {
      "text/plain": [
       "(1333, 3)"
      ]
     },
     "execution_count": 8,
     "metadata": {},
     "output_type": "execute_result"
    }
   ],
   "source": [
    "train_env.quote.table_open.shape"
   ]
  },
  {
   "cell_type": "heading",
   "metadata": {},
   "level": 1,
   "source": [
    "Train"
   ]
  },
  {
   "cell_type": "code",
   "execution_count": 9,
   "metadata": {
    "collapsed": true
   },
   "outputs": [],
   "source": [
    "import multiprocessing\n",
    "import threading\n",
    "import tensorflow as tf\n",
    "from agent.access import Access\n",
    "from agent.framework import Framework"
   ]
  },
  {
   "cell_type": "code",
   "execution_count": 31,
   "metadata": {
    "collapsed": true
   },
   "outputs": [],
   "source": [
    "tf.reset_default_graph()\n",
    "NUMS_CPU = multiprocessing.cpu_count()\n",
    "state_size = train_env.features[-1].shape[-1]\n",
    "batch_size = train_env.features[-1].shape[1]\n",
    "action_size = 3\n",
    "max_episodes = 200\n",
    "model_path = 'model/saver_1.ckpt'\n",
    "restore_model = False"
   ]
  },
  {
   "cell_type": "code",
   "execution_count": 11,
   "metadata": {
    "collapsed": true
   },
   "outputs": [],
   "source": [
    "GD = {}\n",
    "class Worker(Framework):\n",
    "\n",
    "    def __init__(self, name, access, batch_size, state_size, action_size):\n",
    "        super().__init__(name, access, batch_size, state_size, action_size)\n",
    "        self.env = train_env\n",
    "\n",
    "    def run(self, sess, max_episodes, t_max=8):\n",
    "        episode_score_list = []\n",
    "        episode = 0\n",
    "        while episode < max_episodes:\n",
    "            episode += 1\n",
    "            episode_score, _ = self.run_episode(sess, t_max)\n",
    "            episode_score_list.append(episode_score)\n",
    "            GD[str(self.name)] = episode_score_list\n",
    "            if self.name == 'W0':\n",
    "                print('Episode: %f, score: %f' % (episode, episode_score))\n",
    "                print('\\n')"
   ]
  },
  {
   "cell_type": "code",
   "execution_count": 12,
   "metadata": {},
   "outputs": [
    {
     "name": "stdout",
     "output_type": "stream",
     "text": [
      "WARNING:tensorflow:The `skip_connections` argument will be deprecated. Please use snt.SkipConnectionCore instead.\n"
     ]
    },
    {
     "name": "stdout",
     "output_type": "stream",
     "text": [
      "WARNING:tensorflow:The `skip_connections` argument will be deprecated. Please use snt.SkipConnectionCore instead.\n"
     ]
    },
    {
     "name": "stdout",
     "output_type": "stream",
     "text": [
      "WARNING:tensorflow:The `skip_connections` argument will be deprecated. Please use snt.SkipConnectionCore instead.\n"
     ]
    },
    {
     "name": "stdout",
     "output_type": "stream",
     "text": [
      "WARNING:tensorflow:The `skip_connections` argument will be deprecated. Please use snt.SkipConnectionCore instead.\n"
     ]
    },
    {
     "name": "stderr",
     "output_type": "stream",
     "text": [
      "/home/huangyuqi/anaconda3/lib/python3.6/site-packages/tensorflow/python/ops/gradients_impl.py:95: UserWarning: Converting sparse IndexedSlices to a dense Tensor of unknown shape. This may consume a large amount of memory.\n  \"Converting sparse IndexedSlices to a dense Tensor of unknown shape. \"\n"
     ]
    },
    {
     "name": "stdout",
     "output_type": "stream",
     "text": [
      "graph W0\nWARNING:tensorflow:The `skip_connections` argument will be deprecated. Please use snt.SkipConnectionCore instead.\n"
     ]
    },
    {
     "name": "stdout",
     "output_type": "stream",
     "text": [
      "WARNING:tensorflow:The `skip_connections` argument will be deprecated. Please use snt.SkipConnectionCore instead.\n"
     ]
    },
    {
     "name": "stdout",
     "output_type": "stream",
     "text": [
      "graph W1\nWARNING:tensorflow:The `skip_connections` argument will be deprecated. Please use snt.SkipConnectionCore instead.\n"
     ]
    },
    {
     "name": "stdout",
     "output_type": "stream",
     "text": [
      "WARNING:tensorflow:The `skip_connections` argument will be deprecated. Please use snt.SkipConnectionCore instead.\n"
     ]
    },
    {
     "name": "stdout",
     "output_type": "stream",
     "text": [
      "graph W2\nWARNING:tensorflow:The `skip_connections` argument will be deprecated. Please use snt.SkipConnectionCore instead.\n"
     ]
    },
    {
     "name": "stdout",
     "output_type": "stream",
     "text": [
      "WARNING:tensorflow:The `skip_connections` argument will be deprecated. Please use snt.SkipConnectionCore instead.\n"
     ]
    },
    {
     "name": "stdout",
     "output_type": "stream",
     "text": [
      "graph W3\nWARNING:tensorflow:The `skip_connections` argument will be deprecated. Please use snt.SkipConnectionCore instead.\n"
     ]
    },
    {
     "name": "stdout",
     "output_type": "stream",
     "text": [
      "WARNING:tensorflow:The `skip_connections` argument will be deprecated. Please use snt.SkipConnectionCore instead.\n"
     ]
    },
    {
     "name": "stdout",
     "output_type": "stream",
     "text": [
      "graph W4\nWARNING:tensorflow:The `skip_connections` argument will be deprecated. Please use snt.SkipConnectionCore instead.\n"
     ]
    },
    {
     "name": "stdout",
     "output_type": "stream",
     "text": [
      "WARNING:tensorflow:The `skip_connections` argument will be deprecated. Please use snt.SkipConnectionCore instead.\n"
     ]
    },
    {
     "name": "stdout",
     "output_type": "stream",
     "text": [
      "graph W5\nWARNING:tensorflow:The `skip_connections` argument will be deprecated. Please use snt.SkipConnectionCore instead.\n"
     ]
    },
    {
     "name": "stdout",
     "output_type": "stream",
     "text": [
      "WARNING:tensorflow:The `skip_connections` argument will be deprecated. Please use snt.SkipConnectionCore instead.\n"
     ]
    },
    {
     "name": "stdout",
     "output_type": "stream",
     "text": [
      "graph W6\nWARNING:tensorflow:The `skip_connections` argument will be deprecated. Please use snt.SkipConnectionCore instead.\n"
     ]
    },
    {
     "name": "stdout",
     "output_type": "stream",
     "text": [
      "WARNING:tensorflow:The `skip_connections` argument will be deprecated. Please use snt.SkipConnectionCore instead.\n"
     ]
    },
    {
     "name": "stdout",
     "output_type": "stream",
     "text": [
      "graph W7\n"
     ]
    },
    {
     "name": "stdout",
     "output_type": "stream",
     "text": [
      "actor: 4.360425, actor_grad: 1.737930, policy mean: 0.333333, policy: 4.371394, entropy: -1.096866, critic: 8.519624, critic_grad: 5.828575, value: 8.519624, value_mean: 0.050955, advantage: 4.066456\nEpisode: 1.000000, score: 0.703799\n\n\n"
     ]
    },
    {
     "name": "stdout",
     "output_type": "stream",
     "text": [
      "actor: 0.052885, actor_grad: 0.779077, policy mean: 0.333333, policy: 0.063829, entropy: -1.094441, critic: 1.135435, critic_grad: 0.605074, value: 1.135435, value_mean: -0.013755, advantage: -0.010018\nEpisode: 2.000000, score: 1.444049\n\n\n"
     ]
    },
    {
     "name": "stderr",
     "output_type": "stream",
     "text": [
      "Exception in thread Thread-4:\nTraceback (most recent call last):\n  File \"/home/huangyuqi/anaconda3/lib/python3.6/threading.py\", line 916, in _bootstrap_inner\n    self.run()\n  File \"/home/huangyuqi/anaconda3/lib/python3.6/threading.py\", line 864, in run\n    self._target(*self._args, **self._kwargs)\n  File \"<ipython-input-12-1c5b5a727339>\", line 23, in <lambda>\n    job = lambda: ac.run(sess, max_episodes)\n  File \"<ipython-input-11-7fe65fa64792>\", line 13, in run\n    episode_score, _ = self.run_episode(sess, t_max)\n  File \"/home/huangyuqi/Documents/DeepLearningNotes/Note_6/RL_SH50/agent/framework.py\", line 49, in run_episode\n    next_state, reward, done = self.env.step(action)\n  File \"/home/huangyuqi/Documents/DeepLearningNotes/Note_6/RL_SH50/env/env_main.py\", line 29, in step\n    reward, done = self.quote.step(self.step_counter, actions)\n  File \"/home/huangyuqi/Documents/DeepLearningNotes/Note_6/RL_SH50/env/env_quotes.py\", line 154, in step\n    last_sharpe = self.buffer_sharpe[-1]\nIndexError: list index out of range\n\n"
     ]
    },
    {
     "name": "stderr",
     "output_type": "stream",
     "text": [
      "Exception in thread Thread-7:\nTraceback (most recent call last):\n  File \"/home/huangyuqi/anaconda3/lib/python3.6/threading.py\", line 916, in _bootstrap_inner\n    self.run()\n  File \"/home/huangyuqi/anaconda3/lib/python3.6/threading.py\", line 864, in run\n    self._target(*self._args, **self._kwargs)\n  File \"<ipython-input-12-1c5b5a727339>\", line 23, in <lambda>\n    job = lambda: ac.run(sess, max_episodes)\n  File \"<ipython-input-11-7fe65fa64792>\", line 13, in run\n    episode_score, _ = self.run_episode(sess, t_max)\n  File \"/home/huangyuqi/Documents/DeepLearningNotes/Note_6/RL_SH50/agent/framework.py\", line 49, in run_episode\n    next_state, reward, done = self.env.step(action)\n  File \"/home/huangyuqi/Documents/DeepLearningNotes/Note_6/RL_SH50/env/env_main.py\", line 29, in step\n    reward, done = self.quote.step(self.step_counter, actions)\n  File \"/home/huangyuqi/Documents/DeepLearningNotes/Note_6/RL_SH50/env/env_quotes.py\", line 154, in step\n    last_sharpe = self.buffer_sharpe[-1]\nIndexError: list index out of range\nException in thread Thread-11:\nTraceback (most recent call last):\n  File \"/home/huangyuqi/anaconda3/lib/python3.6/threading.py\", line 916, in _bootstrap_inner\n    self.run()\n  File \"/home/huangyuqi/anaconda3/lib/python3.6/threading.py\", line 864, in run\n    self._target(*self._args, **self._kwargs)\n  File \"<ipython-input-12-1c5b5a727339>\", line 23, in <lambda>\n    job = lambda: ac.run(sess, max_episodes)\n  File \"<ipython-input-11-7fe65fa64792>\", line 13, in run\n    episode_score, _ = self.run_episode(sess, t_max)\n  File \"/home/huangyuqi/Documents/DeepLearningNotes/Note_6/RL_SH50/agent/framework.py\", line 49, in run_episode\n    next_state, reward, done = self.env.step(action)\n  File \"/home/huangyuqi/Documents/DeepLearningNotes/Note_6/RL_SH50/env/env_main.py\", line 29, in step\n    reward, done = self.quote.step(self.step_counter, actions)\n  File \"/home/huangyuqi/Documents/DeepLearningNotes/Note_6/RL_SH50/env/env_quotes.py\", line 154, in step\n    last_sharpe = self.buffer_sharpe[-1]\nIndexError: list index out of range\n\n\n"
     ]
    },
    {
     "name": "stderr",
     "output_type": "stream",
     "text": [
      "Exception in thread Thread-9:\nTraceback (most recent call last):\n  File \"/home/huangyuqi/anaconda3/lib/python3.6/threading.py\", line 916, in _bootstrap_inner\n    self.run()\n  File \"/home/huangyuqi/anaconda3/lib/python3.6/threading.py\", line 864, in run\n    self._target(*self._args, **self._kwargs)\n  File \"<ipython-input-12-1c5b5a727339>\", line 23, in <lambda>\n    job = lambda: ac.run(sess, max_episodes)\n  File \"<ipython-input-11-7fe65fa64792>\", line 13, in run\n    episode_score, _ = self.run_episode(sess, t_max)\n  File \"/home/huangyuqi/Documents/DeepLearningNotes/Note_6/RL_SH50/agent/framework.py\", line 49, in run_episode\n    next_state, reward, done = self.env.step(action)\n  File \"/home/huangyuqi/Documents/DeepLearningNotes/Note_6/RL_SH50/env/env_main.py\", line 29, in step\n    reward, done = self.quote.step(self.step_counter, actions)\n  File \"/home/huangyuqi/Documents/DeepLearningNotes/Note_6/RL_SH50/env/env_quotes.py\", line 154, in step\n    last_sharpe = self.buffer_sharpe[-1]\nIndexError: list index out of range\n\n"
     ]
    },
    {
     "name": "stderr",
     "output_type": "stream",
     "text": [
      "Exception in thread Thread-10:\nTraceback (most recent call last):\n  File \"/home/huangyuqi/anaconda3/lib/python3.6/threading.py\", line 916, in _bootstrap_inner\n    self.run()\n  File \"/home/huangyuqi/anaconda3/lib/python3.6/threading.py\", line 864, in run\n    self._target(*self._args, **self._kwargs)\n  File \"<ipython-input-12-1c5b5a727339>\", line 23, in <lambda>\n    job = lambda: ac.run(sess, max_episodes)\n  File \"<ipython-input-11-7fe65fa64792>\", line 13, in run\n    episode_score, _ = self.run_episode(sess, t_max)\n  File \"/home/huangyuqi/Documents/DeepLearningNotes/Note_6/RL_SH50/agent/framework.py\", line 49, in run_episode\n    next_state, reward, done = self.env.step(action)\n  File \"/home/huangyuqi/Documents/DeepLearningNotes/Note_6/RL_SH50/env/env_main.py\", line 29, in step\n    reward, done = self.quote.step(self.step_counter, actions)\n  File \"/home/huangyuqi/Documents/DeepLearningNotes/Note_6/RL_SH50/env/env_quotes.py\", line 154, in step\n    last_sharpe = self.buffer_sharpe[-1]\nIndexError: list index out of range\n\n"
     ]
    },
    {
     "name": "stderr",
     "output_type": "stream",
     "text": [
      "Exception in thread Thread-8:\nTraceback (most recent call last):\n  File \"/home/huangyuqi/anaconda3/lib/python3.6/threading.py\", line 916, in _bootstrap_inner\n    self.run()\n  File \"/home/huangyuqi/anaconda3/lib/python3.6/threading.py\", line 864, in run\n    self._target(*self._args, **self._kwargs)\n  File \"<ipython-input-12-1c5b5a727339>\", line 23, in <lambda>\n    job = lambda: ac.run(sess, max_episodes)\n  File \"<ipython-input-11-7fe65fa64792>\", line 13, in run\n    episode_score, _ = self.run_episode(sess, t_max)\n  File \"/home/huangyuqi/Documents/DeepLearningNotes/Note_6/RL_SH50/agent/framework.py\", line 49, in run_episode\n    next_state, reward, done = self.env.step(action)\n  File \"/home/huangyuqi/Documents/DeepLearningNotes/Note_6/RL_SH50/env/env_main.py\", line 29, in step\n    reward, done = self.quote.step(self.step_counter, actions)\n  File \"/home/huangyuqi/Documents/DeepLearningNotes/Note_6/RL_SH50/env/env_quotes.py\", line 154, in step\n    last_sharpe = self.buffer_sharpe[-1]\nIndexError: list index out of range\n\n"
     ]
    },
    {
     "name": "stderr",
     "output_type": "stream",
     "text": [
      "Exception in thread Thread-6:\nTraceback (most recent call last):\n  File \"/home/huangyuqi/anaconda3/lib/python3.6/threading.py\", line 916, in _bootstrap_inner\n    self.run()\n  File \"/home/huangyuqi/anaconda3/lib/python3.6/threading.py\", line 864, in run\n    self._target(*self._args, **self._kwargs)\n  File \"<ipython-input-12-1c5b5a727339>\", line 23, in <lambda>\n    job = lambda: ac.run(sess, max_episodes)\n  File \"<ipython-input-11-7fe65fa64792>\", line 13, in run\n    episode_score, _ = self.run_episode(sess, t_max)\n  File \"/home/huangyuqi/Documents/DeepLearningNotes/Note_6/RL_SH50/agent/framework.py\", line 49, in run_episode\n    next_state, reward, done = self.env.step(action)\n  File \"/home/huangyuqi/Documents/DeepLearningNotes/Note_6/RL_SH50/env/env_main.py\", line 29, in step\n    reward, done = self.quote.step(self.step_counter, actions)\n  File \"/home/huangyuqi/Documents/DeepLearningNotes/Note_6/RL_SH50/env/env_quotes.py\", line 154, in step\n    last_sharpe = self.buffer_sharpe[-1]\nIndexError: list index out of range\n\n"
     ]
    },
    {
     "name": "stderr",
     "output_type": "stream",
     "text": [
      "Exception in thread Thread-5:\nTraceback (most recent call last):\n  File \"/home/huangyuqi/anaconda3/lib/python3.6/site-packages/tensorflow/python/client/session.py\", line 1327, in _do_call\n    return fn(*args)\n  File \"/home/huangyuqi/anaconda3/lib/python3.6/site-packages/tensorflow/python/client/session.py\", line 1306, in _run_fn\n    status, run_metadata)\n  File \"/home/huangyuqi/anaconda3/lib/python3.6/contextlib.py\", line 89, in __exit__\n    next(self.gen)\n  File \"/home/huangyuqi/anaconda3/lib/python3.6/site-packages/tensorflow/python/framework/errors_impl.py\", line 466, in raise_exception_on_not_ok_status\n    pywrap_tensorflow.TF_GetCode(status))\ntensorflow.python.framework.errors_impl.CancelledError: Run call was cancelled\n\nDuring handling of the above exception, another exception occurred:\n\nTraceback (most recent call last):\n  File \"/home/huangyuqi/anaconda3/lib/python3.6/threading.py\", line 916, in _bootstrap_inner\n    self.run()\n  File \"/home/huangyuqi/anaconda3/lib/python3.6/threading.py\", line 864, in run\n    self._target(*self._args, **self._kwargs)\n  File \"<ipython-input-12-1c5b5a727339>\", line 23, in <lambda>\n    job = lambda: ac.run(sess, max_episodes)\n  File \"<ipython-input-11-7fe65fa64792>\", line 13, in run\n    episode_score, _ = self.run_episode(sess, t_max)\n  File \"/home/huangyuqi/Documents/DeepLearningNotes/Note_6/RL_SH50/agent/framework.py\", line 60, in run_episode\n    terminal = self.get_bootstrap(sess, next_state, done)\n  File \"/home/huangyuqi/Documents/DeepLearningNotes/Note_6/RL_SH50/agent/framework.py\", line 97, in get_bootstrap\n    terminal = self.AC.get_step_value(sess, next_state)\n  File \"/home/huangyuqi/Documents/DeepLearningNotes/Note_6/RL_SH50/agent/actor_critic.py\", line 141, in get_step_value\n    return sess.run(self.value_step, {self.inputs: inputs})\n  File \"/home/huangyuqi/anaconda3/lib/python3.6/site-packages/tensorflow/python/client/session.py\", line 895, in run\n    run_metadata_ptr)\n  File \"/home/huangyuqi/anaconda3/lib/python3.6/site-packages/tensorflow/python/client/session.py\", line 1124, in _run\n    feed_dict_tensor, options, run_metadata)\n  File \"/home/huangyuqi/anaconda3/lib/python3.6/site-packages/tensorflow/python/client/session.py\", line 1321, in _do_run\n    options, run_metadata)\n  File \"/home/huangyuqi/anaconda3/lib/python3.6/site-packages/tensorflow/python/client/session.py\", line 1340, in _do_call\n    raise type(e)(node_def, op, message)\ntensorflow.python.framework.errors_impl.CancelledError: Run call was cancelled\n\n"
     ]
    },
    {
     "ename": "KeyboardInterrupt",
     "evalue": "",
     "traceback": [
      "\u001b[0;31m---------------------------------------------------------------------------\u001b[0m",
      "\u001b[0;31mKeyboardInterrupt\u001b[0m                         Traceback (most recent call last)",
      "\u001b[0;32m<ipython-input-12-1c5b5a727339>\u001b[0m in \u001b[0;36m<module>\u001b[0;34m()\u001b[0m\n\u001b[1;32m     26\u001b[0m             \u001b[0mthreads_list\u001b[0m\u001b[0;34m.\u001b[0m\u001b[0mappend\u001b[0m\u001b[0;34m(\u001b[0m\u001b[0mt\u001b[0m\u001b[0;34m)\u001b[0m\u001b[0;34m\u001b[0m\u001b[0m\n\u001b[1;32m     27\u001b[0m \u001b[0;34m\u001b[0m\u001b[0m\n\u001b[0;32m---> 28\u001b[0;31m         \u001b[0mCOORD\u001b[0m\u001b[0;34m.\u001b[0m\u001b[0mjoin\u001b[0m\u001b[0;34m(\u001b[0m\u001b[0mthreads_list\u001b[0m\u001b[0;34m)\u001b[0m\u001b[0;34m\u001b[0m\u001b[0m\n\u001b[0m\u001b[1;32m     29\u001b[0m \u001b[0;34m\u001b[0m\u001b[0m\n\u001b[1;32m     30\u001b[0m         \u001b[0mA\u001b[0m\u001b[0;34m.\u001b[0m\u001b[0msave\u001b[0m\u001b[0;34m(\u001b[0m\u001b[0msess\u001b[0m\u001b[0;34m,\u001b[0m \u001b[0mmodel_path\u001b[0m\u001b[0;34m)\u001b[0m\u001b[0;34m\u001b[0m\u001b[0m\n",
      "\u001b[0;32m/home/huangyuqi/anaconda3/lib/python3.6/site-packages/tensorflow/python/training/coordinator.py\u001b[0m in \u001b[0;36mjoin\u001b[0;34m(self, threads, stop_grace_period_secs, ignore_live_threads)\u001b[0m\n\u001b[1;32m    361\u001b[0m \u001b[0;34m\u001b[0m\u001b[0m\n\u001b[1;32m    362\u001b[0m     \u001b[0;31m# Wait for all threads to stop or for request_stop() to be called.\u001b[0m\u001b[0;34m\u001b[0m\u001b[0;34m\u001b[0m\u001b[0m\n\u001b[0;32m--> 363\u001b[0;31m     \u001b[0;32mwhile\u001b[0m \u001b[0many\u001b[0m\u001b[0;34m(\u001b[0m\u001b[0mt\u001b[0m\u001b[0;34m.\u001b[0m\u001b[0mis_alive\u001b[0m\u001b[0;34m(\u001b[0m\u001b[0;34m)\u001b[0m \u001b[0;32mfor\u001b[0m \u001b[0mt\u001b[0m \u001b[0;32min\u001b[0m \u001b[0mthreads\u001b[0m\u001b[0;34m)\u001b[0m \u001b[0;32mand\u001b[0m \u001b[0;32mnot\u001b[0m \u001b[0mself\u001b[0m\u001b[0;34m.\u001b[0m\u001b[0mwait_for_stop\u001b[0m\u001b[0;34m(\u001b[0m\u001b[0;36m1.0\u001b[0m\u001b[0;34m)\u001b[0m\u001b[0;34m:\u001b[0m\u001b[0;34m\u001b[0m\u001b[0m\n\u001b[0m\u001b[1;32m    364\u001b[0m       \u001b[0;32mpass\u001b[0m\u001b[0;34m\u001b[0m\u001b[0m\n\u001b[1;32m    365\u001b[0m \u001b[0;34m\u001b[0m\u001b[0m\n",
      "\u001b[0;32m/home/huangyuqi/anaconda3/lib/python3.6/site-packages/tensorflow/python/training/coordinator.py\u001b[0m in \u001b[0;36mwait_for_stop\u001b[0;34m(self, timeout)\u001b[0m\n\u001b[1;32m    309\u001b[0m       \u001b[0;32mTrue\u001b[0m \u001b[0;32mif\u001b[0m \u001b[0mthe\u001b[0m \u001b[0mCoordinator\u001b[0m \u001b[0;32mis\u001b[0m \u001b[0mtold\u001b[0m \u001b[0mstop\u001b[0m\u001b[0;34m,\u001b[0m \u001b[0;32mFalse\u001b[0m \u001b[0;32mif\u001b[0m \u001b[0mthe\u001b[0m \u001b[0mtimeout\u001b[0m \u001b[0mexpired\u001b[0m\u001b[0;34m.\u001b[0m\u001b[0;34m\u001b[0m\u001b[0m\n\u001b[1;32m    310\u001b[0m     \"\"\"\n\u001b[0;32m--> 311\u001b[0;31m     \u001b[0;32mreturn\u001b[0m \u001b[0mself\u001b[0m\u001b[0;34m.\u001b[0m\u001b[0m_stop_event\u001b[0m\u001b[0;34m.\u001b[0m\u001b[0mwait\u001b[0m\u001b[0;34m(\u001b[0m\u001b[0mtimeout\u001b[0m\u001b[0;34m)\u001b[0m\u001b[0;34m\u001b[0m\u001b[0m\n\u001b[0m\u001b[1;32m    312\u001b[0m \u001b[0;34m\u001b[0m\u001b[0m\n\u001b[1;32m    313\u001b[0m   \u001b[0;32mdef\u001b[0m \u001b[0mregister_thread\u001b[0m\u001b[0;34m(\u001b[0m\u001b[0mself\u001b[0m\u001b[0;34m,\u001b[0m \u001b[0mthread\u001b[0m\u001b[0;34m)\u001b[0m\u001b[0;34m:\u001b[0m\u001b[0;34m\u001b[0m\u001b[0m\n",
      "\u001b[0;32m/home/huangyuqi/anaconda3/lib/python3.6/threading.py\u001b[0m in \u001b[0;36mwait\u001b[0;34m(self, timeout)\u001b[0m\n\u001b[1;32m    549\u001b[0m             \u001b[0msignaled\u001b[0m \u001b[0;34m=\u001b[0m \u001b[0mself\u001b[0m\u001b[0;34m.\u001b[0m\u001b[0m_flag\u001b[0m\u001b[0;34m\u001b[0m\u001b[0m\n\u001b[1;32m    550\u001b[0m             \u001b[0;32mif\u001b[0m \u001b[0;32mnot\u001b[0m \u001b[0msignaled\u001b[0m\u001b[0;34m:\u001b[0m\u001b[0;34m\u001b[0m\u001b[0m\n\u001b[0;32m--> 551\u001b[0;31m                 \u001b[0msignaled\u001b[0m \u001b[0;34m=\u001b[0m \u001b[0mself\u001b[0m\u001b[0;34m.\u001b[0m\u001b[0m_cond\u001b[0m\u001b[0;34m.\u001b[0m\u001b[0mwait\u001b[0m\u001b[0;34m(\u001b[0m\u001b[0mtimeout\u001b[0m\u001b[0;34m)\u001b[0m\u001b[0;34m\u001b[0m\u001b[0m\n\u001b[0m\u001b[1;32m    552\u001b[0m             \u001b[0;32mreturn\u001b[0m \u001b[0msignaled\u001b[0m\u001b[0;34m\u001b[0m\u001b[0m\n\u001b[1;32m    553\u001b[0m \u001b[0;34m\u001b[0m\u001b[0m\n",
      "\u001b[0;32m/home/huangyuqi/anaconda3/lib/python3.6/threading.py\u001b[0m in \u001b[0;36mwait\u001b[0;34m(self, timeout)\u001b[0m\n\u001b[1;32m    297\u001b[0m             \u001b[0;32melse\u001b[0m\u001b[0;34m:\u001b[0m\u001b[0;34m\u001b[0m\u001b[0m\n\u001b[1;32m    298\u001b[0m                 \u001b[0;32mif\u001b[0m \u001b[0mtimeout\u001b[0m \u001b[0;34m>\u001b[0m \u001b[0;36m0\u001b[0m\u001b[0;34m:\u001b[0m\u001b[0;34m\u001b[0m\u001b[0m\n\u001b[0;32m--> 299\u001b[0;31m                     \u001b[0mgotit\u001b[0m \u001b[0;34m=\u001b[0m \u001b[0mwaiter\u001b[0m\u001b[0;34m.\u001b[0m\u001b[0macquire\u001b[0m\u001b[0;34m(\u001b[0m\u001b[0;32mTrue\u001b[0m\u001b[0;34m,\u001b[0m \u001b[0mtimeout\u001b[0m\u001b[0;34m)\u001b[0m\u001b[0;34m\u001b[0m\u001b[0m\n\u001b[0m\u001b[1;32m    300\u001b[0m                 \u001b[0;32melse\u001b[0m\u001b[0;34m:\u001b[0m\u001b[0;34m\u001b[0m\u001b[0m\n\u001b[1;32m    301\u001b[0m                     \u001b[0mgotit\u001b[0m \u001b[0;34m=\u001b[0m \u001b[0mwaiter\u001b[0m\u001b[0;34m.\u001b[0m\u001b[0macquire\u001b[0m\u001b[0;34m(\u001b[0m\u001b[0;32mFalse\u001b[0m\u001b[0;34m)\u001b[0m\u001b[0;34m\u001b[0m\u001b[0m\n",
      "\u001b[0;31mKeyboardInterrupt\u001b[0m: "
     ],
     "output_type": "error"
    }
   ],
   "source": [
    "t_start = time.ctime()\n",
    "with tf.Session() as sess:\n",
    "    \n",
    "    with tf.device(\"/cpu:0\"):\n",
    "        \n",
    "        A = Access(batch_size, state_size, action_size)\n",
    "        if restore_model:\n",
    "            A.restore(sess, model_path)\n",
    "        F_list = []\n",
    "        \n",
    "        # writer = tf.summary.FileWriter(\"./model/output\", sess.graph)\n",
    "        # writer.flush()\n",
    "\n",
    "        for i in range(NUMS_CPU):\n",
    "            F_list.append(Worker('W%i' % i, A, batch_size, state_size, action_size))\n",
    "            \n",
    "        COORD = tf.train.Coordinator()\n",
    "        sess.run(tf.global_variables_initializer())\n",
    "        sess.graph.finalize()\n",
    "\n",
    "        threads_list = []\n",
    "        for ac in F_list:\n",
    "            job = lambda: ac.run(sess, max_episodes)\n",
    "            t = threading.Thread(target=job)\n",
    "            t.start()\n",
    "            threads_list.append(t)\n",
    "            \n",
    "        COORD.join(threads_list)\n",
    "        \n",
    "        A.save(sess, model_path)\n",
    "        \n",
    "        # writer.close()\n",
    "        \n",
    "t_end = time.ctime()"
   ]
  },
  {
   "cell_type": "code",
   "execution_count": null,
   "metadata": {},
   "outputs": [],
   "source": [
    "print(t_start)\n",
    "print(t_end)"
   ]
  },
  {
   "cell_type": "heading",
   "metadata": {},
   "level": 1,
   "source": [
    "Test"
   ]
  },
  {
   "cell_type": "code",
   "execution_count": 5,
   "metadata": {
    "collapsed": true
   },
   "outputs": [],
   "source": [
    "tf.reset_default_graph()"
   ]
  },
  {
   "cell_type": "code",
   "execution_count": 14,
   "metadata": {
    "collapsed": true
   },
   "outputs": [],
   "source": [
    "from agent.actor_critic import Agent\n",
    "from env.env_main import Account\n",
    "\n",
    "import seaborn as sns\n",
    "sns.set_style('whitegrid')\n",
    "%matplotlib inline"
   ]
  },
  {
   "cell_type": "code",
   "execution_count": 36,
   "metadata": {},
   "outputs": [],
   "source": [
    "tf.reset_default_graph()\n",
    "test_env = train_env"
   ]
  },
  {
   "cell_type": "code",
   "execution_count": 37,
   "metadata": {},
   "outputs": [],
   "source": [
    "state_size = test_env.features[-1].shape[-1]\n",
    "batch_size = test_env.features[-1].shape[1]\n",
    "action_size = 3"
   ]
  },
  {
   "cell_type": "code",
   "execution_count": 38,
   "metadata": {},
   "outputs": [
    {
     "name": "stdout",
     "output_type": "stream",
     "text": [
      "WARNING:tensorflow:The `skip_connections` argument will be deprecated. Please use snt.SkipConnectionCore instead.\n"
     ]
    },
    {
     "name": "stdout",
     "output_type": "stream",
     "text": [
      "WARNING:tensorflow:The `skip_connections` argument will be deprecated. Please use snt.SkipConnectionCore instead.\n"
     ]
    },
    {
     "name": "stdout",
     "output_type": "stream",
     "text": [
      "WARNING:tensorflow:The `skip_connections` argument will be deprecated. Please use snt.SkipConnectionCore instead.\n"
     ]
    },
    {
     "name": "stdout",
     "output_type": "stream",
     "text": [
      "WARNING:tensorflow:The `skip_connections` argument will be deprecated. Please use snt.SkipConnectionCore instead.\n"
     ]
    },
    {
     "name": "stderr",
     "output_type": "stream",
     "text": [
      "/home/huangyuqi/anaconda3/lib/python3.6/site-packages/tensorflow/python/ops/gradients_impl.py:95: UserWarning: Converting sparse IndexedSlices to a dense Tensor of unknown shape. This may consume a large amount of memory.\n  \"Converting sparse IndexedSlices to a dense Tensor of unknown shape. \"\n"
     ]
    },
    {
     "name": "stdout",
     "output_type": "stream",
     "text": [
      "graph W0\nINFO:tensorflow:Restoring parameters from model/saver_1.ckpt\n"
     ]
    }
   ],
   "source": [
    "# config = tf.ConfigProto()\n",
    "# config.gpu_options.allow_growth = True\n",
    "with tf.Session() as sess:\n",
    "    \n",
    "    with tf.device(\"/cpu:0\"):\n",
    "        \n",
    "        A = Access(batch_size, state_size, action_size)\n",
    "        W = Agent('W0', A, batch_size, state_size, action_size)\n",
    "        A.restore(sess, model_path)\n",
    "        W.init_or_update_local(sess)\n",
    "        \n",
    "        env = test_env\n",
    "        state = env.reset()\n",
    "        for _ in range(1000):\n",
    "            action = W.get_deterministic_policy_action(sess, state)\n",
    "            state, reward, done = env.step(action)\n",
    "\n",
    "value, reward = env.plot_data()\n"
   ]
  },
  {
   "cell_type": "code",
   "execution_count": 33,
   "metadata": {},
   "outputs": [
    {
     "data": {
      "text/plain": [
       "<matplotlib.axes._subplots.AxesSubplot at 0x7f7f671562b0>"
      ]
     },
     "execution_count": 33,
     "metadata": {},
     "output_type": "execute_result"
    },
    {
     "data": {
      "image/png": "[encoded data removed]",
      "text/plain": [
       "<matplotlib.figure.Figure at 0x7f7f96ce6898>"
      ]
     },
     "metadata": {},
     "output_type": "display_data"
    }
   ],
   "source": [
    "value, reward = env.plot_data()\n",
    "\n",
    "pd.Series(value).plot(figsize=(16, 6))"
   ]
  },
  {
   "cell_type": "code",
   "execution_count": 34,
   "metadata": {},
   "outputs": [
    {
     "data": {
      "text/plain": [
       "<matplotlib.axes._subplots.AxesSubplot at 0x7f7f6c9fe4a8>"
      ]
     },
     "execution_count": 34,
     "metadata": {},
     "output_type": "execute_result"
    },
    {
     "data": {
      "image/png": "[encoded data removed]",
      "text/plain": [
       "<matplotlib.figure.Figure at 0x7f7f6cedb630>"
      ]
     },
     "metadata": {},
     "output_type": "display_data"
    }
   ],
   "source": [
    "pd.Series(reward).plot(figsize=(16,6))\n",
    "pd.Series(np.zeros_like(reward)).plot(figsize=(16,6), color='r')"
   ]
  },
  {
   "cell_type": "code",
   "execution_count": null,
   "metadata": {
    "collapsed": true
   },
   "outputs": [],
   "source": []
  }
 ],
 "metadata": {
  "kernelspec": {
   "display_name": "Python 3",
   "language": "python",
   "name": "python3"
  },
  "language_info": {
   "codemirror_mode": {
    "name": "ipython",
    "version": 3
   },
   "file_extension": ".py",
   "mimetype": "text/x-python",
   "name": "python",
   "nbconvert_exporter": "python",
   "pygments_lexer": "ipython3",
   "version": "3.6.3"
  }
 },
 "nbformat": 4,
 "nbformat_minor": 1
}
