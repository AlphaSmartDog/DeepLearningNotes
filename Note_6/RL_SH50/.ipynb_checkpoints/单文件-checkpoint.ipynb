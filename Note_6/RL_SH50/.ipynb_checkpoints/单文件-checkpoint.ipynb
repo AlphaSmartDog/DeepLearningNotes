{
 "cells": [
  {
   "cell_type": "markdown",
   "metadata": {},
   "source": [
    "[github](https://github.com/AlphaSmartDog/DeepLearningNotes/tree/master/Note-6%20A3CNet/Note-6.3%20%E5%BC%BA%E5%8C%96%E5%AD%A6%E4%B9%A0%E9%80%89%E8%82%A1-SH50%E6%8C%87%E6%95%B0%E5%A2%9E%E5%BC%BA)"
   ]
  },
  {
   "cell_type": "markdown",
   "metadata": {},
   "source": [
    "## 深度强化学习选股\n",
    "\n",
    "![](fig1.png)\n",
    "\n",
    "###### 上证50指数增强\n",
    "\n",
    "简单的强化学习选股框架，在选股方面训练虚拟交易员选股调仓，实现SH50指数增强。\n",
    "\n",
    "在每个交易日，Agent根据获取的观测数据[Batch, Length, Factor]计算出一个行为向量[Batch]，对50只成份股进行调仓，先卖后买使用，使用开盘价成交，在每交易日结束，使用收盘价评估持仓获得reward。\n",
    "\n",
    "Agent 推断架构为2层LSTM后接MLP输出。\n",
    "\n",
    "在与训练环境交互的时候使用gather处理n step折现问题。\n",
    "\n",
    "\n",
    "\n",
    "注：交互环境-*账户Account*使用向量的方法并行SH50成份股，所以交互环境中股票的顺序是绑定的，并且股票种类使用Batch固定为50。\n",
    "\n",
    "\n",
    "\n"
   ]
  },
  {
   "cell_type": "markdown",
   "metadata": {},
   "source": [
    "trainable neural network"
   ]
  },
  {
   "cell_type": "code",
   "execution_count": 1,
   "metadata": {
    "collapsed": true
   },
   "outputs": [],
   "source": [
    "import tensorflow as tf\n",
    "import numpy as np\n",
    "from sonnet.python.modules.base import AbstractModule\n",
    "from sonnet.python.modules.basic import Linear as sntLinear\n",
    "from sonnet.python.modules.gated_rnn import LSTM as sntLSTM\n",
    "from sonnet.python.modules.basic_rnn import DeepRNN as sntDeepRNN\n",
    "from sonnet.python.modules.basic import BatchApply as sntBatchApply\n",
    "\n",
    "\n",
    "def swich(inputs):\n",
    "    return inputs * tf.nn.sigmoid(inputs)\n",
    "\n",
    "\n",
    "def Linear(name, output_size):\n",
    "    initializers = {\"w\": tf.truncated_normal_initializer(stddev=0.1),\n",
    "                    \"b\": tf.constant_initializer(value=0.1)}\n",
    "    regularizers = {\"w\": tf.contrib.layers.l2_regularizer(scale=0.1),\n",
    "                    \"b\": tf.contrib.layers.l2_regularizer(scale=0.1)}\n",
    "    return sntLinear(output_size,\n",
    "                      initializers=initializers,\n",
    "                      regularizers=regularizers,\n",
    "                      name=name)\n",
    "\n",
    "def build_common_network(inputs):\n",
    "    \"\"\"common network\n",
    "    :param inputs: [Time, Batch, state_size]\n",
    "    :return: [Time, Batch, hidden_size]\n",
    "    \"\"\"\n",
    "    # build rnn\n",
    "    batch_size = inputs.get_shape().as_list()[1]\n",
    "    l1 = sntLSTM(64, name='rnn_first')\n",
    "    l2 = sntLSTM(32, name='rnn_second')\n",
    "    rnn = sntDeepRNN([l1, l2])\n",
    "    initial_state = rnn.initial_state(batch_size)\n",
    "    # looping\n",
    "    output_sequence, final_state = tf.nn.dynamic_rnn(\n",
    "        rnn, inputs, initial_state=initial_state, time_major=True)\n",
    "    return output_sequence\n",
    "\n",
    "\n",
    "class ActorNet(AbstractModule):\n",
    "    \"\"\"actor network\n",
    "    \"\"\"\n",
    "    def __init__(self, name='Actor'):\n",
    "        super().__init__(name=name)\n",
    "\n",
    "    def _build(self, output_size, inputs):\n",
    "        # loop net -> [Time, Batch, hidden_size]\n",
    "        net = build_common_network(inputs)  # rnn output (-1, 1)\n",
    "        # linear net\n",
    "        net = sntBatchApply(Linear('input_layer', 64))(net)\n",
    "        net = swich(net)\n",
    "        net = sntBatchApply(Linear('output_layer', output_size))(net)\n",
    "        return tf.nn.softmax(net)  # [Time, Batch, output_size]\n",
    "\n",
    "    def get_regularization(self):\n",
    "        return self.get_variables(tf.GraphKeys.REGULARIZATION_LOSSES)\n",
    "\n",
    "\n",
    "class CriticNet(AbstractModule):\n",
    "    \"\"\"critic network\n",
    "    \"\"\"\n",
    "    def __init__(self, name='critic'):\n",
    "        super().__init__(name=name)\n",
    "\n",
    "    def _build(self, inputs):\n",
    "        # loop net -> [Time, Batch, hidden_size]\n",
    "        net = build_common_network(inputs)  # range (-1, 1)\n",
    "        # linear net\n",
    "        net = sntBatchApply(Linear('input_layer', 64))(net)\n",
    "        net = swich(net)\n",
    "        net = sntBatchApply(Linear('output_layer', 1))(net)\n",
    "        net = tf.squeeze(net, axis=2)\n",
    "        # net = tf.nn.tanh(net)\n",
    "        return tf.reduce_mean(net, axis=1)  # [Time]\n",
    "\n",
    "    def get_regularization(self):\n",
    "        return self.get_variables(tf.GraphKeys.REGULARIZATION_LOSSES)"
   ]
  },
  {
   "cell_type": "markdown",
   "metadata": {},
   "source": [
    "Access"
   ]
  },
  {
   "cell_type": "code",
   "execution_count": 2,
   "metadata": {
    "collapsed": true
   },
   "outputs": [],
   "source": [
    "LEARNING_RATE = 1e-3\n",
    "DECAY_RATE = 0.99\n",
    "\n",
    "\n",
    "class Access(object):\n",
    "    def __init__(self, batch_size, state_size, action_size):\n",
    "        with tf.variable_scope('Access'):\n",
    "            # placeholder\n",
    "            self.inputs = tf.placeholder(tf.float32, [None, batch_size, state_size], 'inputs')\n",
    "            # network interface\n",
    "            self.actor = ActorNet('actor')\n",
    "            self.critic = CriticNet('critic')\n",
    "\n",
    "            self.policy = tf.nn.softmax(self.actor(action_size, self.inputs))\n",
    "            self.value = self.critic(self.inputs)\n",
    "\n",
    "        # global optimizer\n",
    "        self.optimizer_actor = tf.train.RMSPropOptimizer(\n",
    "            LEARNING_RATE, DECAY_RATE, name='optimizer_actor')\n",
    "        self.optimizer_critic = tf.train.RMSPropOptimizer(\n",
    "            LEARNING_RATE, DECAY_RATE, name='optimizer_critic')\n",
    "\n",
    "        # saver\n",
    "        var_list = self.get_trainable()\n",
    "        var_list = list(var_list[0] + var_list[1])\n",
    "        self.saver = tf.train.Saver(var_list=var_list)\n",
    "\n",
    "    def get_trainable(self):\n",
    "        return [self.actor.get_variables(), self.critic.get_variables()]\n",
    "\n",
    "    def save(self, sess, path):\n",
    "        self.saver.save(sess, path)\n",
    "\n",
    "    def restore(self, sess, path):\n",
    "        var_list = list(self.get_trainable()[0] + self.get_trainable()[1])\n",
    "        saver = tf.train.Saver(var_list=var_list)\n",
    "        saver.restore(sess, path)\n"
   ]
  },
  {
   "cell_type": "markdown",
   "metadata": {},
   "source": [
    "Agent"
   ]
  },
  {
   "cell_type": "code",
   "execution_count": 3,
   "metadata": {
    "collapsed": true
   },
   "outputs": [],
   "source": [
    "CLIP_MIN = 0.01\n",
    "CLIP_MAX = 0.98\n",
    "ENTROPY_BETA = 0.01\n",
    "MAX_GRAD_NORM = 50\n",
    "\n",
    "\n",
    "def batch_choice(a, p):\n",
    "    action_list = [np.random.choice(a, p=i) for i in p]\n",
    "    return np.array(action_list)\n",
    "\n",
    "\n",
    "# local network for advantage actor-critic which are also know as A2C\n",
    "class Agent(object):\n",
    "    def __init__(self, name, access, batch_size, state_size, action_size):\n",
    "        self.Access = access\n",
    "        self.action_size = action_size\n",
    "        self.batch_size = batch_size\n",
    "\n",
    "        with tf.variable_scope(name):\n",
    "            # placeholder\n",
    "\n",
    "            # [Time, Batch, N]\n",
    "            self.inputs = tf.placeholder(\n",
    "                tf.float32, [None, batch_size, state_size], 'inputs')\n",
    "\n",
    "            # [T_MAX, Batch]\n",
    "            self.actions = tf.placeholder(\n",
    "                tf.int32, [None, batch_size], \"actions\")\n",
    "\n",
    "            # [T_MAX]\n",
    "            self.targets = tf.placeholder(tf.float32, [None], \"discounted_rewards\")\n",
    "            self.gathers = tf.placeholder(tf.int32, [None], 'gather_list')\n",
    "\n",
    "            # build network\n",
    "            self.actor = ActorNet('actor')\n",
    "            self.critic = CriticNet('critic')\n",
    "            policy = self.actor(action_size, self.inputs)  # [Time, Batch, action_size]\n",
    "            value = self.critic(self.inputs)  # [Time]\n",
    "\n",
    "            # fix\n",
    "            policy = tf.clip_by_value(policy, CLIP_MIN, CLIP_MAX, 'constraint')\n",
    "\n",
    "            # interface\n",
    "            self.policy = tf.gather(policy, self.gathers)  # [T_MAX, Batch, action_size]\n",
    "            self.value = tf.gather(value, self.gathers)  # [T_MAX]\n",
    "            self.policy_step = policy[-1]  # [Batch, action_size]\n",
    "            self.value_step = value[-1]  # 1\n",
    "\n",
    "            # build function\n",
    "            self._build_losses()\n",
    "            self._build_async()\n",
    "            self._build_interface()\n",
    "            print('graph %s' % (str(name)))\n",
    "\n",
    "    def _build_losses(self):\n",
    "        # value loss\n",
    "        self.advantage = self.targets - self.value  # [T_MAX]\n",
    "        value_loss = 0.5 * tf.square(self.advantage)\n",
    "\n",
    "        # policy loss\n",
    "        # [T_MAX, Batch, action_size] -> [T_MAX, Batch]\n",
    "        policy_action = tf.reduce_sum(\n",
    "            self.policy * tf.one_hot(self.actions, self.action_size), axis=2)\n",
    "        # [T_MAX, Batch]\n",
    "        policy_loss = -tf.log(policy_action) * tf.stop_gradient(\n",
    "            tf.expand_dims(self.advantage, axis=1))\n",
    "        # entropy loss [T_MAX, Batch]\n",
    "        entropy_loss = tf.reduce_sum(self.policy * tf.log(self.policy), axis=2)\n",
    "\n",
    "        # total loss\n",
    "        self.critic_loss = tf.reduce_mean(value_loss)\n",
    "        self.actor_loss = tf.reduce_mean(policy_loss + entropy_loss * ENTROPY_BETA)\n",
    "\n",
    "        # interface\n",
    "        self.a_entropy_loss = tf.reduce_mean(entropy_loss)\n",
    "        self.a_policy_loss = tf.reduce_mean(policy_loss)\n",
    "        self.a_value_loss = tf.reduce_mean(value_loss)\n",
    "        self.a_critic_loss = self.critic_loss\n",
    "        self.a_actor_loss = self.actor_loss\n",
    "        self.a_advantage = tf.reduce_mean(self.advantage)\n",
    "        self.a_value_mean = tf.reduce_mean(self.value)\n",
    "        self.a_policy_mean = tf.reduce_mean(self.policy)\n",
    "\n",
    "    def _build_async(self):\n",
    "        global_actor_params, global_critic_params = self.Access.get_trainable()\n",
    "        local_actor_params, local_critic_params = self.get_trainable()\n",
    "        actor_grads = tf.gradients(self.actor_loss, list(local_actor_params))\n",
    "        critic_grads = tf.gradients(self.critic_loss, list(local_critic_params))\n",
    "\n",
    "        # Set up optimizer with global norm clipping.\n",
    "        actor_grads, self.a_actor_grad = tf.clip_by_global_norm(actor_grads, MAX_GRAD_NORM)\n",
    "        critic_grads, self.a_critic_grad = tf.clip_by_global_norm(critic_grads, MAX_GRAD_NORM)\n",
    "\n",
    "        # update Access\n",
    "        actor_apply = self.Access.optimizer_actor.apply_gradients(\n",
    "            zip(list(actor_grads), list(global_actor_params)))\n",
    "        critic_apply = self.Access.optimizer_critic.apply_gradients(\n",
    "            zip(list(critic_grads), list(global_critic_params)))\n",
    "        self.update_global = [actor_apply, critic_apply]\n",
    "\n",
    "        # update ACNet\n",
    "        assign_list = []\n",
    "        for gv, lv in zip(global_actor_params, local_actor_params):\n",
    "            assign_list.append(tf.assign(lv, gv))\n",
    "        for gv, lv in zip(global_critic_params, local_critic_params):\n",
    "            assign_list.append(tf.assign(lv, gv))\n",
    "        self.update_local = assign_list\n",
    "\n",
    "    def _build_interface(self):\n",
    "        self.a_interface = [self.a_actor_loss,\n",
    "                            self.a_actor_grad,\n",
    "                            self.a_policy_mean,\n",
    "                            self.a_policy_loss,\n",
    "                            self.a_entropy_loss,\n",
    "                            self.a_critic_loss,\n",
    "                            self.a_critic_grad,\n",
    "                            self.a_value_loss,\n",
    "                            self.a_value_mean,\n",
    "                            self.a_advantage]\n",
    "\n",
    "    def get_trainable(self):\n",
    "        return [self.actor.get_variables(), self.critic.get_variables()]\n",
    "\n",
    "    def init_or_update_local(self, sess):\n",
    "        \"\"\"\n",
    "        init or update local network\n",
    "        :param sess:\n",
    "        :return:\n",
    "        \"\"\"\n",
    "        sess.run(self.update_local)\n",
    "\n",
    "    def get_step_policy(self, sess, inputs):\n",
    "        return sess.run(self.policy_step, {self.inputs: inputs})\n",
    "\n",
    "    def get_step_value(self, sess, inputs):\n",
    "        return sess.run(self.value_step, {self.inputs: inputs})\n",
    "\n",
    "    def get_losses(self, sess, inputs, actions, targets, gather_list):\n",
    "        \"\"\"\n",
    "        get all loss functions of network\n",
    "        :param sess:\n",
    "        :param inputs:\n",
    "        :param actions:\n",
    "        :param targets:\n",
    "        :return:\n",
    "        \"\"\"\n",
    "        feed_dict = {self.inputs: inputs,\n",
    "                     self.actions: actions,\n",
    "                     self.targets: targets,\n",
    "                     self.gathers: gather_list}\n",
    "        return sess.run(self.a_interface, feed_dict)\n",
    "\n",
    "    def train_step(self, sess, inputs, actions, targets, gathers):\n",
    "        feed_dict = {self.inputs: inputs,\n",
    "                     self.actions: actions,\n",
    "                     self.targets: targets,\n",
    "                     self.gathers: gathers}\n",
    "        sess.run(self.update_global, feed_dict)\n",
    "\n",
    "    # get stochastic action for train\n",
    "    def get_stochastic_action(self, sess, inputs, epsilon=0.9):\n",
    "        if np.random.uniform() < epsilon:\n",
    "            policy = sess.run(self.policy_step, {self.inputs: inputs})\n",
    "            return batch_choice(self.action_size, policy)\n",
    "        else:\n",
    "            return np.random.randint(self.action_size, size=self.batch_size)\n",
    "\n",
    "    # get deterministic action for test\n",
    "    def get_deterministic_policy_action(self, sess, inputs):\n",
    "        policy_step = sess.run(self.policy_step, {self.inputs: inputs})\n",
    "        return np.argmax(policy_step, axis=1)"
   ]
  },
  {
   "cell_type": "markdown",
   "metadata": {},
   "source": [
    "Framework"
   ]
  },
  {
   "cell_type": "code",
   "execution_count": 4,
   "metadata": {
    "collapsed": true
   },
   "outputs": [],
   "source": [
    "from agent.actor_critic import Agent\n",
    "\n",
    "\n",
    "MAX_EPISODE_LENGTH = 200\n",
    "GAMMA = 0.9\n",
    "\n",
    "\n",
    "def batch_stack(inputs):\n",
    "    # gather index\n",
    "    gather_list = 63 + 16 * np.arange(len(inputs))\n",
    "    # stack\n",
    "    a = [inputs[0][:-16]]\n",
    "    b = [i[-16:] for i in inputs]\n",
    "    return np.vstack(a + b), gather_list\n",
    "\n",
    "\n",
    "class Framework(object):\n",
    "    def __init__(self, name, access, batch_size, state_size, action_size):\n",
    "        self.Access = access\n",
    "        self.AC = Agent(name, self.Access, batch_size, state_size, action_size)\n",
    "        self.env = Account()\n",
    "        self.name = name\n",
    "\n",
    "    def run(self, sess, max_episodes, t_max=8):\n",
    "        buffer_score = []\n",
    "        buffer_loss = []\n",
    "        episode = 0\n",
    "        while episode < max_episodes:\n",
    "            episode += 1\n",
    "            episode_score, outputs = self.run_episode(sess, t_max)\n",
    "            buffer_score.append(episode_score)\n",
    "            buffer_loss.append(outputs)\n",
    "        return buffer_score, buffer_loss\n",
    "\n",
    "    def run_episode(self, sess, t_max=8):\n",
    "        t_start = t = 0\n",
    "        episode_score = 1\n",
    "        buffer_state = []\n",
    "        buffer_action = []\n",
    "        buffer_reward = []\n",
    "\n",
    "        self.AC.init_or_update_local(sess)\n",
    "        state = self.env.reset()\n",
    "        while True:\n",
    "            t += 1\n",
    "            action = self.AC.get_stochastic_action(sess, state)\n",
    "            next_state, reward, done = self.env.step(action)\n",
    "\n",
    "            # buffer for loop\n",
    "            episode_score *= (1 + reward / 100)\n",
    "            buffer_state.append(state)\n",
    "            buffer_action.append(action)\n",
    "            buffer_reward.append(reward)\n",
    "            state = next_state\n",
    "\n",
    "            if t - t_start == t_max or done:\n",
    "                t_start = t\n",
    "                terminal = self.get_bootstrap(sess, next_state, done)\n",
    "\n",
    "                buffer_target = []\n",
    "                for r in buffer_reward[::-1]:\n",
    "                    terminal = r + GAMMA * terminal\n",
    "                    buffer_target.append(terminal)\n",
    "                buffer_target.reverse()\n",
    "\n",
    "                # stack\n",
    "                inputs, gather_list = batch_stack(buffer_state)\n",
    "                actions = np.vstack(buffer_action)\n",
    "                targets = np.squeeze(np.vstack(buffer_target), axis=1)\n",
    "\n",
    "                # empty buffer\n",
    "                buffer_state = []\n",
    "                buffer_action = []\n",
    "                buffer_reward = []\n",
    "\n",
    "                # update Access gradients\n",
    "                self.AC.train_step(sess, inputs, actions, targets, gather_list)\n",
    "\n",
    "                # update local network\n",
    "                self.AC.init_or_update_local(sess)\n",
    "\n",
    "            if done or t > MAX_EPISODE_LENGTH:\n",
    "                outputs = self.get_losses(sess, inputs, actions, targets, gather_list)\n",
    "                outputs = tuple(outputs)\n",
    "                if self.name == 'W0':\n",
    "                    print('actor: %f, actor_grad: %f, policy mean: %f, policy: %f, entropy: %f, '\n",
    "                          'critic: %f, critic_grad: %f, value: %f, value_mean: %f, advantage: %f'\n",
    "                          % outputs)\n",
    "                return episode_score, outputs\n",
    "\n",
    "    def get_bootstrap(self, sess, next_state, done):\n",
    "        if done:\n",
    "            terminal = 0\n",
    "        else:\n",
    "            terminal = self.AC.get_step_value(sess, next_state)\n",
    "        return terminal\n",
    "\n",
    "    def get_losses(self, sess, inputs, actions, targets, gather_list):\n",
    "        return self.AC.get_losses(sess, inputs, actions, targets, gather_list)"
   ]
  },
  {
   "cell_type": "markdown",
   "metadata": {},
   "source": [
    "main"
   ]
  },
  {
   "cell_type": "code",
   "execution_count": 5,
   "metadata": {
    "collapsed": true
   },
   "outputs": [],
   "source": [
    "import multiprocessing\n",
    "import threading\n",
    "from env.env_main import Account\n",
    "\n",
    "NUMS_CPU = multiprocessing.cpu_count()\n",
    "state_size = 58\n",
    "batch_size = 50\n",
    "action_size = 3\n",
    "max_episodes = 1"
   ]
  },
  {
   "cell_type": "code",
   "execution_count": 6,
   "metadata": {
    "collapsed": true
   },
   "outputs": [],
   "source": [
    "GD = {}\n",
    "class Worker(Framework):\n",
    "\n",
    "    def __init__(self, name, access, batch_size, state_size, action_size):\n",
    "        super().__init__(name, access, batch_size, state_size, action_size)\n",
    "\n",
    "    def run(self, sess, max_episodes, t_max=8):\n",
    "        episode_score_list = []\n",
    "        episode = 0\n",
    "        while episode < max_episodes:\n",
    "            episode += 1\n",
    "            episode_socre, _ = self.run_episode(sess, t_max)\n",
    "            episode_score_list.append(episode_socre)\n",
    "            GD[str(self.name)] = episode_score_list\n",
    "            if self.name == 'W0':\n",
    "                print('Episode: %f, score: %f' % (episode, episode_socre))\n",
    "                print('\\n')"
   ]
  },
  {
   "cell_type": "code",
   "execution_count": 7,
   "metadata": {},
   "outputs": [
    {
     "name": "stdout",
     "output_type": "stream",
     "text": [
      "WARNING:tensorflow:The `skip_connections` argument will be deprecated. Please use snt.SkipConnectionCore instead.\n",
      "WARNING:tensorflow:The `skip_connections` argument will be deprecated. Please use snt.SkipConnectionCore instead.\n",
      "WARNING:tensorflow:The `skip_connections` argument will be deprecated. Please use snt.SkipConnectionCore instead.\n",
      "WARNING:tensorflow:The `skip_connections` argument will be deprecated. Please use snt.SkipConnectionCore instead.\n"
     ]
    },
    {
     "name": "stderr",
     "output_type": "stream",
     "text": [
      "E:\\software\\Anaconda363\\lib\\site-packages\\tensorflow\\python\\ops\\gradients_impl.py:96: UserWarning: Converting sparse IndexedSlices to a dense Tensor of unknown shape. This may consume a large amount of memory.\n",
      "  \"Converting sparse IndexedSlices to a dense Tensor of unknown shape. \"\n"
     ]
    },
    {
     "name": "stdout",
     "output_type": "stream",
     "text": [
      "graph W0\n",
      "WARNING:tensorflow:The `skip_connections` argument will be deprecated. Please use snt.SkipConnectionCore instead.\n",
      "WARNING:tensorflow:The `skip_connections` argument will be deprecated. Please use snt.SkipConnectionCore instead.\n",
      "graph W1\n",
      "WARNING:tensorflow:The `skip_connections` argument will be deprecated. Please use snt.SkipConnectionCore instead.\n",
      "WARNING:tensorflow:The `skip_connections` argument will be deprecated. Please use snt.SkipConnectionCore instead.\n",
      "graph W2\n",
      "WARNING:tensorflow:The `skip_connections` argument will be deprecated. Please use snt.SkipConnectionCore instead.\n",
      "WARNING:tensorflow:The `skip_connections` argument will be deprecated. Please use snt.SkipConnectionCore instead.\n",
      "graph W3\n",
      "WARNING:tensorflow:The `skip_connections` argument will be deprecated. Please use snt.SkipConnectionCore instead.\n",
      "WARNING:tensorflow:The `skip_connections` argument will be deprecated. Please use snt.SkipConnectionCore instead.\n",
      "graph W4\n",
      "WARNING:tensorflow:The `skip_connections` argument will be deprecated. Please use snt.SkipConnectionCore instead.\n",
      "WARNING:tensorflow:The `skip_connections` argument will be deprecated. Please use snt.SkipConnectionCore instead.\n",
      "graph W5\n",
      "WARNING:tensorflow:The `skip_connections` argument will be deprecated. Please use snt.SkipConnectionCore instead.\n",
      "WARNING:tensorflow:The `skip_connections` argument will be deprecated. Please use snt.SkipConnectionCore instead.\n",
      "graph W6\n",
      "WARNING:tensorflow:The `skip_connections` argument will be deprecated. Please use snt.SkipConnectionCore instead.\n",
      "WARNING:tensorflow:The `skip_connections` argument will be deprecated. Please use snt.SkipConnectionCore instead.\n",
      "graph W7\n",
      "actor: -0.676055, actor_grad: 0.073945, policy mean: 0.333333, policy: -0.665087, entropy: -1.096820, critic: 0.243507, critic_grad: 0.849599, value: 0.243507, value_mean: 0.189615, advantage: -0.606338\n",
      "Episode: 1.000000, score: 0.998724\n",
      "\n",
      "\n"
     ]
    }
   ],
   "source": [
    "with tf.Session() as sess:\n",
    "    with tf.device(\"/cpu:0\"):\n",
    "        A = Access(batch_size, state_size, action_size)\n",
    "        F_list = []\n",
    "        for i in range(NUMS_CPU):\n",
    "            F_list.append(Worker('W%i' % i, A, batch_size, state_size, action_size))\n",
    "        COORD = tf.train.Coordinator()\n",
    "        sess.run(tf.global_variables_initializer())\n",
    "        sess.graph.finalize()\n",
    "\n",
    "        threads_list = []\n",
    "        for ac in F_list:\n",
    "            job = lambda: ac.run(sess, max_episodes)\n",
    "            t = threading.Thread(target=job)\n",
    "            t.start()\n",
    "            threads_list.append(t)\n",
    "        COORD.join(threads_list)\n",
    "        A.save(sess, 'model/saver_1.ckpt')"
   ]
  },
  {
   "cell_type": "markdown",
   "metadata": {},
   "source": [
    "test"
   ]
  },
  {
   "cell_type": "code",
   "execution_count": 12,
   "metadata": {
    "collapsed": true
   },
   "outputs": [],
   "source": [
    "tf.reset_default_graph()\n",
    "import pandas as pd\n",
    "import seaborn as sns\n",
    "sns.set_style('whitegrid')\n",
    "%matplotlib inline"
   ]
  },
  {
   "cell_type": "code",
   "execution_count": 13,
   "metadata": {},
   "outputs": [
    {
     "name": "stdout",
     "output_type": "stream",
     "text": [
      "WARNING:tensorflow:The `skip_connections` argument will be deprecated. Please use snt.SkipConnectionCore instead.\n",
      "WARNING:tensorflow:The `skip_connections` argument will be deprecated. Please use snt.SkipConnectionCore instead.\n",
      "WARNING:tensorflow:The `skip_connections` argument will be deprecated. Please use snt.SkipConnectionCore instead.\n",
      "WARNING:tensorflow:The `skip_connections` argument will be deprecated. Please use snt.SkipConnectionCore instead.\n"
     ]
    },
    {
     "name": "stderr",
     "output_type": "stream",
     "text": [
      "E:\\software\\Anaconda363\\lib\\site-packages\\tensorflow\\python\\ops\\gradients_impl.py:96: UserWarning: Converting sparse IndexedSlices to a dense Tensor of unknown shape. This may consume a large amount of memory.\n",
      "  \"Converting sparse IndexedSlices to a dense Tensor of unknown shape. \"\n"
     ]
    },
    {
     "name": "stdout",
     "output_type": "stream",
     "text": [
      "graph W0\n",
      "INFO:tensorflow:Restoring parameters from model/saver_1.ckpt\n"
     ]
    }
   ],
   "source": [
    "state_size = 58\n",
    "batch_size = 50\n",
    "action_size = 3\n",
    "\n",
    "\n",
    "config = tf.ConfigProto()\n",
    "config.gpu_options.allow_growth = True\n",
    "with tf.Session(config=config) as sess:\n",
    "    with tf.device(\"/cpu:0\"):\n",
    "        A = Access(batch_size, state_size, action_size)\n",
    "        W = Agent('W0', A, batch_size, state_size, action_size)\n",
    "        A.restore(sess,'model/saver_1.ckpt')\n",
    "        W.init_or_update_local(sess)\n",
    "        env = Account()\n",
    "        state = env.reset()\n",
    "        for _ in range(200):\n",
    "            action = W.get_deterministic_policy_action(sess, state)\n",
    "            state, reward, done = env.step(action)"
   ]
  },
  {
   "cell_type": "code",
   "execution_count": 14,
   "metadata": {},
   "outputs": [
    {
     "data": {
      "text/plain": [
       "<matplotlib.axes._subplots.AxesSubplot at 0x20cb120dc88>"
      ]
     },
     "execution_count": 14,
     "metadata": {},
     "output_type": "execute_result"
    },
    {
     "data": {
      "image/png": "[encoded data removed]",
      "text/plain": [
       "<matplotlib.figure.Figure at 0x20cb168f898>"
      ]
     },
     "metadata": {},
     "output_type": "display_data"
    }
   ],
   "source": [
    "value, reward = env.plot_data()\n",
    "\n",
    "pd.Series(value).plot(figsize=(16,6))"
   ]
  },
  {
   "cell_type": "code",
   "execution_count": 15,
   "metadata": {},
   "outputs": [
    {
     "data": {
      "text/plain": [
       "<matplotlib.axes._subplots.AxesSubplot at 0x20cbf1ef128>"
      ]
     },
     "execution_count": 15,
     "metadata": {},
     "output_type": "execute_result"
    },
    {
     "data": {
      "image/png": "[encoded data removed]",
      "text/plain": [
       "<matplotlib.figure.Figure at 0x20cbf1f8668>"
      ]
     },
     "metadata": {},
     "output_type": "display_data"
    }
   ],
   "source": [
    "pd.Series(reward).plot(figsize=(16,6))\n",
    "pd.Series(np.zeros_like(reward)).plot(figsize=(16,6), color='r')"
   ]
  },
  {
   "cell_type": "code",
   "execution_count": null,
   "metadata": {
    "collapsed": true
   },
   "outputs": [],
   "source": []
  }
 ],
 "metadata": {
  "kernelspec": {
   "display_name": "Python 3",
   "language": "python",
   "name": "python3"
  },
  "language_info": {
   "codemirror_mode": {
    "name": "ipython",
    "version": 3
   },
   "file_extension": ".py",
   "mimetype": "text/x-python",
   "name": "python",
   "nbconvert_exporter": "python",
   "pygments_lexer": "ipython3",
   "version": "3.6.3"
  }
 },
 "nbformat": 4,
 "nbformat_minor": 2
}
